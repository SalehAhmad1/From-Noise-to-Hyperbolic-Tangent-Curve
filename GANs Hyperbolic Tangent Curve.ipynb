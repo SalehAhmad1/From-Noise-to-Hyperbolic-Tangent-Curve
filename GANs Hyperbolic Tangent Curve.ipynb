{
 "cells": [
  {
   "cell_type": "code",
   "execution_count": 1,
   "metadata": {},
   "outputs": [],
   "source": [
    "import torch\n",
    "from torch import nn\n",
    "import numpy as np\n",
    "import math\n",
    "import matplotlib.pyplot as plt"
   ]
  },
  {
   "cell_type": "code",
   "execution_count": 2,
   "metadata": {},
   "outputs": [
    {
     "data": {
      "text/plain": [
       "<torch._C.Generator at 0x7fce05745f70>"
      ]
     },
     "execution_count": 2,
     "metadata": {},
     "output_type": "execute_result"
    }
   ],
   "source": [
    "torch.manual_seed(111)"
   ]
  },
  {
   "cell_type": "code",
   "execution_count": 32,
   "metadata": {},
   "outputs": [],
   "source": [
    "train_data_length = 1024\n",
    "train_data = torch.zeros((train_data_length, 2))\n",
    "train_data[:, 0] = torch.rand(train_data_length) * 2**2\n",
    "train_data[:, 1] = torch.tanh(train_data[:, 0])\n",
    "train_labels = torch.zeros(train_data_length)\n",
    "train_set = [(train_data[i], train_labels[i]) for i in range(train_data_length)]"
   ]
  },
  {
   "cell_type": "code",
   "execution_count": 33,
   "metadata": {},
   "outputs": [
    {
     "data": {
      "text/plain": [
       "[<matplotlib.lines.Line2D at 0x7fcd58303430>]"
      ]
     },
     "execution_count": 33,
     "metadata": {},
     "output_type": "execute_result"
    },
    {
     "data": {
      "image/png": "[encoded data removed]",
      "text/plain": [
       "<Figure size 432x288 with 1 Axes>"
      ]
     },
     "metadata": {
      "needs_background": "light"
     },
     "output_type": "display_data"
    }
   ],
   "source": [
    "plt.plot(train_data[:, 0], train_data[:, 1], \".\")"
   ]
  },
  {
   "cell_type": "code",
   "execution_count": 34,
   "metadata": {},
   "outputs": [],
   "source": [
    "batch_size = 32\n",
    "train_loader = torch.utils.data.DataLoader(train_set, batch_size=batch_size, shuffle=True)"
   ]
  },
  {
   "cell_type": "code",
   "execution_count": 35,
   "metadata": {},
   "outputs": [],
   "source": [
    "class Discriminator(nn.Module):\n",
    "    def __init__(self):\n",
    "        super().__init__()\n",
    "        self.model = nn.Sequential(\n",
    "            nn.Linear(2, 256),\n",
    "            nn.ReLU(),\n",
    "            nn.Dropout(0.3),\n",
    "            nn.Linear(256, 128),\n",
    "            nn.ReLU(),\n",
    "            nn.Dropout(0.3),\n",
    "            nn.Linear(128, 64),\n",
    "            nn.ReLU(),\n",
    "            nn.Dropout(0.3),\n",
    "            nn.Linear(64, 1),\n",
    "            nn.Sigmoid(),\n",
    "        )\n",
    "\n",
    "    def forward(self, x):\n",
    "        output = self.model(x)\n",
    "        return output"
   ]
  },
  {
   "cell_type": "code",
   "execution_count": 36,
   "metadata": {},
   "outputs": [],
   "source": [
    "discriminator = Discriminator()\n"
   ]
  },
  {
   "cell_type": "code",
   "execution_count": 37,
   "metadata": {},
   "outputs": [],
   "source": [
    "class Generator(nn.Module):\n",
    "    def __init__(self):\n",
    "        super().__init__()\n",
    "        self.model = nn.Sequential(\n",
    "            nn.Linear(2, 16),\n",
    "            nn.ReLU(),\n",
    "            nn.Linear(16, 32),\n",
    "            nn.ReLU(),\n",
    "            nn.Linear(32, 2),\n",
    "        )\n",
    "\n",
    "    def forward(self, x):\n",
    "        output = self.model(x)\n",
    "        return output"
   ]
  },
  {
   "cell_type": "code",
   "execution_count": 38,
   "metadata": {},
   "outputs": [],
   "source": [
    "generator = Generator()"
   ]
  },
  {
   "cell_type": "code",
   "execution_count": 39,
   "metadata": {},
   "outputs": [],
   "source": [
    "lr = 0.001\n",
    "num_epochs = 300\n",
    "loss_function = nn.BCELoss()"
   ]
  },
  {
   "cell_type": "code",
   "execution_count": 40,
   "metadata": {},
   "outputs": [],
   "source": [
    "optimizer_discriminator = torch.optim.Adam(discriminator.parameters(), lr=lr)\n",
    "optimizer_generator = torch.optim.Adam(generator.parameters(), lr=lr)"
   ]
  },
  {
   "cell_type": "code",
   "execution_count": 41,
   "metadata": {},
   "outputs": [
    {
     "name": "stdout",
     "output_type": "stream",
     "text": [
      "Epoch: 0 Loss D.: 0.2561509907245636\n",
      "Epoch: 0 Loss G.: 2.562459707260132\n",
      "Epoch: 10 Loss D.: 0.9713137149810791\n",
      "Epoch: 10 Loss G.: 0.6414839029312134\n",
      "Epoch: 20 Loss D.: 0.6492712497711182\n",
      "Epoch: 20 Loss G.: 0.8782589435577393\n",
      "Epoch: 30 Loss D.: 0.714871346950531\n",
      "Epoch: 30 Loss G.: 0.6709497570991516\n",
      "Epoch: 40 Loss D.: 0.49623098969459534\n",
      "Epoch: 40 Loss G.: 1.5126757621765137\n",
      "Epoch: 50 Loss D.: 0.6189566850662231\n",
      "Epoch: 50 Loss G.: 1.2768940925598145\n",
      "Epoch: 60 Loss D.: 0.585750937461853\n",
      "Epoch: 60 Loss G.: 1.067718267440796\n",
      "Epoch: 70 Loss D.: 0.771949827671051\n",
      "Epoch: 70 Loss G.: 0.581468939781189\n",
      "Epoch: 80 Loss D.: 0.7467265725135803\n",
      "Epoch: 80 Loss G.: 0.5792750716209412\n",
      "Epoch: 90 Loss D.: 0.7139886617660522\n",
      "Epoch: 90 Loss G.: 0.6428922414779663\n",
      "Epoch: 100 Loss D.: 0.5977269411087036\n",
      "Epoch: 100 Loss G.: 0.7750609517097473\n",
      "Epoch: 110 Loss D.: 0.6431654691696167\n",
      "Epoch: 110 Loss G.: 0.9061611294746399\n",
      "Epoch: 120 Loss D.: 0.7850509285926819\n",
      "Epoch: 120 Loss G.: 0.6478419303894043\n",
      "Epoch: 130 Loss D.: 0.6740676164627075\n",
      "Epoch: 130 Loss G.: 0.6425240635871887\n",
      "Epoch: 140 Loss D.: 0.6346608400344849\n",
      "Epoch: 140 Loss G.: 0.8636378049850464\n",
      "Epoch: 150 Loss D.: 0.8370803594589233\n",
      "Epoch: 150 Loss G.: 0.6526739597320557\n",
      "Epoch: 160 Loss D.: 0.5853962898254395\n",
      "Epoch: 160 Loss G.: 1.0363490581512451\n",
      "Epoch: 170 Loss D.: 0.5422012805938721\n",
      "Epoch: 170 Loss G.: 1.2424969673156738\n",
      "Epoch: 180 Loss D.: 0.8296521902084351\n",
      "Epoch: 180 Loss G.: 0.7650378942489624\n",
      "Epoch: 190 Loss D.: 0.793439507484436\n",
      "Epoch: 190 Loss G.: 0.5954351425170898\n",
      "Epoch: 200 Loss D.: 0.5760712623596191\n",
      "Epoch: 200 Loss G.: 1.1972570419311523\n",
      "Epoch: 210 Loss D.: 0.7141579389572144\n",
      "Epoch: 210 Loss G.: 0.6915854811668396\n",
      "Epoch: 220 Loss D.: 0.7081074714660645\n",
      "Epoch: 220 Loss G.: 0.5986602902412415\n",
      "Epoch: 230 Loss D.: 0.572079062461853\n",
      "Epoch: 230 Loss G.: 1.0440855026245117\n",
      "Epoch: 240 Loss D.: 0.6808140277862549\n",
      "Epoch: 240 Loss G.: 0.5975364446640015\n",
      "Epoch: 250 Loss D.: 0.7787539958953857\n",
      "Epoch: 250 Loss G.: 0.6336177587509155\n",
      "Epoch: 260 Loss D.: 0.5983206033706665\n",
      "Epoch: 260 Loss G.: 1.2573364973068237\n",
      "Epoch: 270 Loss D.: 0.6555084586143494\n",
      "Epoch: 270 Loss G.: 0.6805679202079773\n",
      "Epoch: 280 Loss D.: 0.6038146018981934\n",
      "Epoch: 280 Loss G.: 0.987104058265686\n",
      "Epoch: 290 Loss D.: 0.6999852657318115\n",
      "Epoch: 290 Loss G.: 0.6307269930839539\n"
     ]
    }
   ],
   "source": [
    "for epoch in range(num_epochs):\n",
    "    for n, (real_samples, _) in enumerate(train_loader):\n",
    "        # Data for training the discriminator\n",
    "        real_samples_labels = torch.ones((batch_size, 1))\n",
    "        latent_space_samples = torch.randn((batch_size, 2))\n",
    "        generated_samples = generator(latent_space_samples)\n",
    "        generated_samples_labels = torch.zeros((batch_size, 1))\n",
    "        all_samples = torch.cat((real_samples, generated_samples))\n",
    "        all_samples_labels = torch.cat(\n",
    "            (real_samples_labels, generated_samples_labels)\n",
    "        )\n",
    "\n",
    "        # Training the discriminator\n",
    "        discriminator.zero_grad()\n",
    "        output_discriminator = discriminator(all_samples)\n",
    "        loss_discriminator = loss_function(\n",
    "            output_discriminator, all_samples_labels)\n",
    "        loss_discriminator.backward()\n",
    "        optimizer_discriminator.step()\n",
    "\n",
    "        # Data for training the generator\n",
    "        latent_space_samples = torch.randn((batch_size, 2))\n",
    "\n",
    "        # Training the generator\n",
    "        generator.zero_grad()\n",
    "        generated_samples = generator(latent_space_samples)\n",
    "        output_discriminator_generated = discriminator(generated_samples)\n",
    "        loss_generator = loss_function(\n",
    "            output_discriminator_generated, real_samples_labels\n",
    "        )\n",
    "        loss_generator.backward()\n",
    "        optimizer_generator.step()\n",
    "\n",
    "        # Show loss\n",
    "        if epoch % 10 == 0 and n == batch_size - 1:\n",
    "            print(f\"Epoch: {epoch} Loss D.: {loss_discriminator}\")\n",
    "            print(f\"Epoch: {epoch} Loss G.: {loss_generator}\")"
   ]
  },
  {
   "cell_type": "code",
   "execution_count": 42,
   "metadata": {},
   "outputs": [],
   "source": [
    "latent_space_samples = torch.randn(100, 2)\n",
    "generated_samples = generator(latent_space_samples)"
   ]
  },
  {
   "cell_type": "code",
   "execution_count": 43,
   "metadata": {},
   "outputs": [
    {
     "data": {
      "text/plain": [
       "[<matplotlib.lines.Line2D at 0x7fcd58228d30>]"
      ]
     },
     "execution_count": 43,
     "metadata": {},
     "output_type": "execute_result"
    },
    {
     "data": {
      "image/png": "[encoded data removed]",
      "text/plain": [
       "<Figure size 432x288 with 1 Axes>"
      ]
     },
     "metadata": {
      "needs_background": "light"
     },
     "output_type": "display_data"
    }
   ],
   "source": [
    "generated_samples = generated_samples.detach()\n",
    "plt.plot(generated_samples[:, 0], generated_samples[:, 1], \".\")"
   ]
  },
  {
   "cell_type": "code",
   "execution_count": 47,
   "metadata": {},
   "outputs": [
    {
     "data": {
      "text/plain": [
       "tensor([0, 0, 0, 0, 0, 0, 0, 0, 0, 0, 0, 0, 0, 0, 0, 0, 0, 0, 0, 0, 0, 0, 0, 0,\n",
       "        0, 0, 0, 0, 0, 0, 0, 0, 0, 0, 0, 0, 0, 0, 0, 0, 0, 0, 0, 0, 0, 0, 0, 0,\n",
       "        0, 0, 0, 0, 0, 0, 0, 0, 0, 0, 0, 0, 0, 0, 0, 0, 0, 0, 0, 0, 0, 0, 0, 0,\n",
       "        0, 0, 0, 0, 0, 0, 0, 0, 0, 0, 0, 0, 0, 0, 0, 0, 0, 0, 0, 0, 0, 0, 0, 0,\n",
       "        0, 0, 0, 0])"
      ]
     },
     "execution_count": 47,
     "metadata": {},
     "output_type": "execute_result"
    }
   ],
   "source": [
    "torch.argmax(discriminator(generated_samples),1)\n",
    "\n",
    "'''This shows that the discriminator is able to classify the generated samples as real.'''"
   ]
  }
 ],
 "metadata": {
  "kernelspec": {
   "display_name": "Python 3.8.8 ('base')",
   "language": "python",
   "name": "python3"
  },
  "language_info": {
   "codemirror_mode": {
    "name": "ipython",
    "version": 3
   },
   "file_extension": ".py",
   "mimetype": "text/x-python",
   "name": "python",
   "nbconvert_exporter": "python",
   "pygments_lexer": "ipython3",
   "version": "3.8.8"
  },
  "orig_nbformat": 4,
  "vscode": {
   "interpreter": {
    "hash": "90857eea415e892742aa58aac1803481ac02e4a0a6170a8a09c25267b7e414aa"
   }
  }
 },
 "nbformat": 4,
 "nbformat_minor": 2
}
